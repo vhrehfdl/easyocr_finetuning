{
  "nbformat": 4,
  "nbformat_minor": 0,
  "metadata": {
    "colab": {
      "name": "easyocr_finetuning.ipynb",
      "provenance": [],
      "collapsed_sections": [],
      "toc_visible": true
    },
    "kernelspec": {
      "name": "python3",
      "display_name": "Python 3"
    },
    "language_info": {
      "name": "python"
    },
    "accelerator": "GPU",
    "gpuClass": "standard"
  },
  "cells": [
    {
      "cell_type": "markdown",
      "source": [
        "# 1.Clone easyocr-finetuning repository \n",
        "Clone the github repository.\n"
      ],
      "metadata": {
        "id": "gQ-w3CKdbtoB"
      }
    },
    {
      "cell_type": "code",
      "execution_count": 1,
      "metadata": {
        "colab": {
          "base_uri": "https://localhost:8080/"
        },
        "id": "CUEj6Mkd398l",
        "outputId": "bdaead3e-8699-423f-d27f-0534db126e77"
      },
      "outputs": [
        {
          "output_type": "stream",
          "name": "stdout",
          "text": [
            "Cloning into 'easyocr_finetuning'...\n",
            "remote: Enumerating objects: 4331, done.\u001b[K\n",
            "remote: Counting objects: 100% (862/862), done.\u001b[K\n",
            "remote: Compressing objects: 100% (729/729), done.\u001b[K\n",
            "remote: Total 4331 (delta 131), reused 849 (delta 123), pack-reused 3469\u001b[K\n",
            "Receiving objects: 100% (4331/4331), 180.13 MiB | 20.66 MiB/s, done.\n",
            "Resolving deltas: 100% (1448/1448), done.\n",
            "Checking out files: 100% (19078/19078), done.\n"
          ]
        }
      ],
      "source": [
        "!git clone https://github.com/vhrehfdl/easyocr_finetuning.git"
      ]
    },
    {
      "cell_type": "markdown",
      "source": [
        "# 2.Set Environment\n",
        "If the problem persists even after configuring the environment, click Restart Runtime and try again."
      ],
      "metadata": {
        "id": "DAWt2OpFb7Cm"
      }
    },
    {
      "cell_type": "code",
      "source": [
        "!pip install torch torchvision\n",
        "!pip install lmdb pillow nltk natsort\n",
        "!pip install fire\n",
        "!pip install easyocr\n",
        "!pip install -U PyYAML"
      ],
      "metadata": {
        "colab": {
          "base_uri": "https://localhost:8080/"
        },
        "id": "Tj-GsKP-RHpq",
        "outputId": "089b6fbb-8b2c-40e3-f2af-338867de6a30"
      },
      "execution_count": 2,
      "outputs": [
        {
          "output_type": "stream",
          "name": "stdout",
          "text": [
            "Looking in indexes: https://pypi.org/simple, https://us-python.pkg.dev/colab-wheels/public/simple/\n",
            "Requirement already satisfied: torch in /usr/local/lib/python3.7/dist-packages (1.11.0+cu113)\n",
            "Requirement already satisfied: torchvision in /usr/local/lib/python3.7/dist-packages (0.12.0+cu113)\n",
            "Requirement already satisfied: typing-extensions in /usr/local/lib/python3.7/dist-packages (from torch) (4.1.1)\n",
            "Requirement already satisfied: requests in /usr/local/lib/python3.7/dist-packages (from torchvision) (2.23.0)\n",
            "Requirement already satisfied: pillow!=8.3.*,>=5.3.0 in /usr/local/lib/python3.7/dist-packages (from torchvision) (7.1.2)\n",
            "Requirement already satisfied: numpy in /usr/local/lib/python3.7/dist-packages (from torchvision) (1.21.6)\n",
            "Requirement already satisfied: certifi>=2017.4.17 in /usr/local/lib/python3.7/dist-packages (from requests->torchvision) (2022.6.15)\n",
            "Requirement already satisfied: chardet<4,>=3.0.2 in /usr/local/lib/python3.7/dist-packages (from requests->torchvision) (3.0.4)\n",
            "Requirement already satisfied: idna<3,>=2.5 in /usr/local/lib/python3.7/dist-packages (from requests->torchvision) (2.10)\n",
            "Requirement already satisfied: urllib3!=1.25.0,!=1.25.1,<1.26,>=1.21.1 in /usr/local/lib/python3.7/dist-packages (from requests->torchvision) (1.24.3)\n",
            "Looking in indexes: https://pypi.org/simple, https://us-python.pkg.dev/colab-wheels/public/simple/\n",
            "Requirement already satisfied: lmdb in /usr/local/lib/python3.7/dist-packages (0.99)\n",
            "Requirement already satisfied: pillow in /usr/local/lib/python3.7/dist-packages (7.1.2)\n",
            "Requirement already satisfied: nltk in /usr/local/lib/python3.7/dist-packages (3.7)\n",
            "Requirement already satisfied: natsort in /usr/local/lib/python3.7/dist-packages (5.5.0)\n",
            "Requirement already satisfied: regex>=2021.8.3 in /usr/local/lib/python3.7/dist-packages (from nltk) (2022.6.2)\n",
            "Requirement already satisfied: click in /usr/local/lib/python3.7/dist-packages (from nltk) (7.1.2)\n",
            "Requirement already satisfied: tqdm in /usr/local/lib/python3.7/dist-packages (from nltk) (4.64.0)\n",
            "Requirement already satisfied: joblib in /usr/local/lib/python3.7/dist-packages (from nltk) (1.1.0)\n",
            "Looking in indexes: https://pypi.org/simple, https://us-python.pkg.dev/colab-wheels/public/simple/\n",
            "Collecting fire\n",
            "  Downloading fire-0.4.0.tar.gz (87 kB)\n",
            "\u001b[K     |████████████████████████████████| 87 kB 5.6 MB/s \n",
            "\u001b[?25hRequirement already satisfied: six in /usr/local/lib/python3.7/dist-packages (from fire) (1.15.0)\n",
            "Requirement already satisfied: termcolor in /usr/local/lib/python3.7/dist-packages (from fire) (1.1.0)\n",
            "Building wheels for collected packages: fire\n",
            "  Building wheel for fire (setup.py) ... \u001b[?25l\u001b[?25hdone\n",
            "  Created wheel for fire: filename=fire-0.4.0-py2.py3-none-any.whl size=115942 sha256=50fc893cd0438a98f8efd818709fa0f7b272928cde873ad1c98ca46f7894aa65\n",
            "  Stored in directory: /root/.cache/pip/wheels/8a/67/fb/2e8a12fa16661b9d5af1f654bd199366799740a85c64981226\n",
            "Successfully built fire\n",
            "Installing collected packages: fire\n",
            "Successfully installed fire-0.4.0\n",
            "Looking in indexes: https://pypi.org/simple, https://us-python.pkg.dev/colab-wheels/public/simple/\n",
            "Collecting easyocr\n",
            "  Downloading easyocr-1.5.0-py3-none-any.whl (70.8 MB)\n",
            "\u001b[K     |████████████████████████████████| 70.8 MB 19 kB/s \n",
            "\u001b[?25hRequirement already satisfied: scikit-image in /usr/local/lib/python3.7/dist-packages (from easyocr) (0.18.3)\n",
            "Requirement already satisfied: torchvision>=0.5 in /usr/local/lib/python3.7/dist-packages (from easyocr) (0.12.0+cu113)\n",
            "Requirement already satisfied: torch in /usr/local/lib/python3.7/dist-packages (from easyocr) (1.11.0+cu113)\n",
            "Collecting opencv-python-headless<=4.5.4.60\n",
            "  Downloading opencv_python_headless-4.5.4.60-cp37-cp37m-manylinux_2_17_x86_64.manylinux2014_x86_64.whl (47.6 MB)\n",
            "\u001b[K     |████████████████████████████████| 47.6 MB 1.2 MB/s \n",
            "\u001b[?25hRequirement already satisfied: PyYAML in /usr/local/lib/python3.7/dist-packages (from easyocr) (3.13)\n",
            "Collecting python-bidi\n",
            "  Downloading python_bidi-0.4.2-py2.py3-none-any.whl (30 kB)\n",
            "Requirement already satisfied: scipy in /usr/local/lib/python3.7/dist-packages (from easyocr) (1.4.1)\n",
            "Requirement already satisfied: numpy in /usr/local/lib/python3.7/dist-packages (from easyocr) (1.21.6)\n",
            "Requirement already satisfied: Pillow in /usr/local/lib/python3.7/dist-packages (from easyocr) (7.1.2)\n",
            "Requirement already satisfied: typing-extensions in /usr/local/lib/python3.7/dist-packages (from torchvision>=0.5->easyocr) (4.1.1)\n",
            "Requirement already satisfied: requests in /usr/local/lib/python3.7/dist-packages (from torchvision>=0.5->easyocr) (2.23.0)\n",
            "Requirement already satisfied: six in /usr/local/lib/python3.7/dist-packages (from python-bidi->easyocr) (1.15.0)\n",
            "Requirement already satisfied: urllib3!=1.25.0,!=1.25.1,<1.26,>=1.21.1 in /usr/local/lib/python3.7/dist-packages (from requests->torchvision>=0.5->easyocr) (1.24.3)\n",
            "Requirement already satisfied: idna<3,>=2.5 in /usr/local/lib/python3.7/dist-packages (from requests->torchvision>=0.5->easyocr) (2.10)\n",
            "Requirement already satisfied: certifi>=2017.4.17 in /usr/local/lib/python3.7/dist-packages (from requests->torchvision>=0.5->easyocr) (2022.6.15)\n",
            "Requirement already satisfied: chardet<4,>=3.0.2 in /usr/local/lib/python3.7/dist-packages (from requests->torchvision>=0.5->easyocr) (3.0.4)\n",
            "Requirement already satisfied: tifffile>=2019.7.26 in /usr/local/lib/python3.7/dist-packages (from scikit-image->easyocr) (2021.11.2)\n",
            "Requirement already satisfied: networkx>=2.0 in /usr/local/lib/python3.7/dist-packages (from scikit-image->easyocr) (2.6.3)\n",
            "Requirement already satisfied: imageio>=2.3.0 in /usr/local/lib/python3.7/dist-packages (from scikit-image->easyocr) (2.4.1)\n",
            "Requirement already satisfied: matplotlib!=3.0.0,>=2.0.0 in /usr/local/lib/python3.7/dist-packages (from scikit-image->easyocr) (3.2.2)\n",
            "Requirement already satisfied: PyWavelets>=1.1.1 in /usr/local/lib/python3.7/dist-packages (from scikit-image->easyocr) (1.3.0)\n",
            "Requirement already satisfied: kiwisolver>=1.0.1 in /usr/local/lib/python3.7/dist-packages (from matplotlib!=3.0.0,>=2.0.0->scikit-image->easyocr) (1.4.3)\n",
            "Requirement already satisfied: pyparsing!=2.0.4,!=2.1.2,!=2.1.6,>=2.0.1 in /usr/local/lib/python3.7/dist-packages (from matplotlib!=3.0.0,>=2.0.0->scikit-image->easyocr) (3.0.9)\n",
            "Requirement already satisfied: python-dateutil>=2.1 in /usr/local/lib/python3.7/dist-packages (from matplotlib!=3.0.0,>=2.0.0->scikit-image->easyocr) (2.8.2)\n",
            "Requirement already satisfied: cycler>=0.10 in /usr/local/lib/python3.7/dist-packages (from matplotlib!=3.0.0,>=2.0.0->scikit-image->easyocr) (0.11.0)\n",
            "Installing collected packages: python-bidi, opencv-python-headless, easyocr\n",
            "Successfully installed easyocr-1.5.0 opencv-python-headless-4.5.4.60 python-bidi-0.4.2\n",
            "Looking in indexes: https://pypi.org/simple, https://us-python.pkg.dev/colab-wheels/public/simple/\n",
            "Requirement already satisfied: PyYAML in /usr/local/lib/python3.7/dist-packages (3.13)\n",
            "Collecting PyYAML\n",
            "  Downloading PyYAML-6.0-cp37-cp37m-manylinux_2_5_x86_64.manylinux1_x86_64.manylinux_2_12_x86_64.manylinux2010_x86_64.whl (596 kB)\n",
            "\u001b[K     |████████████████████████████████| 596 kB 14.5 MB/s \n",
            "\u001b[?25hInstalling collected packages: PyYAML\n",
            "  Attempting uninstall: PyYAML\n",
            "    Found existing installation: PyYAML 3.13\n",
            "    Uninstalling PyYAML-3.13:\n",
            "      Successfully uninstalled PyYAML-3.13\n",
            "Successfully installed PyYAML-6.0\n"
          ]
        }
      ]
    },
    {
      "cell_type": "markdown",
      "source": [
        "# 3.Make train data\n",
        "To use ai hub data, you only need to use 3-1.   \n",
        "If there is no ai hub data, use 3-2 to create the data."
      ],
      "metadata": {
        "id": "jk-xWs3J3gRL"
      }
    },
    {
      "cell_type": "markdown",
      "source": [
        "## 3-1. Using AI hub OCR data\n",
        "- https://aihub.or.kr/node/33987\n",
        "- It uses AI hub OCR data to crop text and transforms the data into a learnable form."
      ],
      "metadata": {
        "id": "GDtoLa0r4cnF"
      }
    },
    {
      "cell_type": "code",
      "source": [
        "!python /content/easyocr_finetuning/convert_aihub.py \\\n",
        "  --input_image_dir \"/content/easyocr_finetuning/workspace/step1/train/aihub_data/images/\" \\\n",
        "  --input_label_dir \"/content/easyocr_finetuning/workspace/step1/train/aihub_data/label/\" \\\n",
        "  --output_dir \"/content/easyocr_finetuning/workspace/step2/train/aihub_data/\""
      ],
      "metadata": {
        "id": "5SMGlzAB5p0T"
      },
      "execution_count": 3,
      "outputs": []
    },
    {
      "cell_type": "code",
      "source": [
        "!python /content/easyocr_finetuning/convert_aihub.py \\\n",
        "  --input_image_dir \"/content/easyocr_finetuning/workspace/step1/validation/aihub_data/images/\" \\\n",
        "  --input_label_dir \"/content/easyocr_finetuning/workspace/step1/validation/aihub_data/label/\" \\\n",
        "  --output_dir \"/content/easyocr_finetuning/workspace/step2/validation/aihub_data/\""
      ],
      "metadata": {
        "id": "KfP9Lr6FGzeM"
      },
      "execution_count": 4,
      "outputs": []
    },
    {
      "cell_type": "code",
      "source": [
        "!python /content/easyocr_finetuning/convert_aihub.py \\\n",
        "  --input_image_dir \"/content/easyocr_finetuning/workspace/step1/test/aihub_data/images/\" \\\n",
        "  --input_label_dir \"/content/easyocr_finetuning/workspace/step1/test/aihub_data/label/\" \\\n",
        "  --output_dir \"/content/easyocr_finetuning/workspace/step2/test/aihub_data/\""
      ],
      "metadata": {
        "id": "FdbFbXzlG219"
      },
      "execution_count": 5,
      "outputs": []
    },
    {
      "cell_type": "markdown",
      "source": [
        "## 3-2. Generate Korean text image\n",
        "If you do not use AI hub data, you can create your own data.  \n",
        "If you want to use the data, you can run the collaboratory cell and skip it if you don't want to."
      ],
      "metadata": {
        "id": "gAkSiiQQ4S1N"
      }
    },
    {
      "cell_type": "code",
      "source": [
        "!python /content/easyocr_finetuning/TextRecognitionDataGenerator/trdg/run.py \\\n",
        "  -c 1000 \\\n",
        "  -l ko \\\n",
        "  --output_dir \"/content/easyocr_finetuning/workspace/step1/train/kordata\"\n",
        "\n",
        "!python /content/easyocr_finetuning/TextRecognitionDataGeneratortrdg/run.py \\\n",
        "  -c 100 \\\n",
        "  -l ko \\\n",
        "  --output_dir \"/content/easyocr_finetuning/workspace/step1/validation/kordata\"\n",
        "\n",
        "!python /content/easyocr_finetuning/TextRecognitionDataGeneratortrdg/run.py \\\n",
        "  -c 100 \\\n",
        "  -l ko \\\n",
        "  --output_dir \"/content/easyocr_finetuning/workspace/step1/test/kordata\""
      ],
      "metadata": {
        "id": "63M9YZErHaea",
        "colab": {
          "base_uri": "https://localhost:8080/"
        },
        "outputId": "5a28fa07-ecfa-4d36-a184-0fa6629852a6"
      },
      "execution_count": 6,
      "outputs": [
        {
          "output_type": "stream",
          "name": "stdout",
          "text": [
            "100% 1000/1000 [00:01<00:00, 556.75it/s]\n",
            "python3: can't open file '/content/easyocr_finetuning/TextRecognitionDataGeneratortrdg/run.py': [Errno 2] No such file or directory\n",
            "python3: can't open file '/content/easyocr_finetuning/TextRecognitionDataGeneratortrdg/run.py': [Errno 2] No such file or directory\n"
          ]
        }
      ]
    },
    {
      "cell_type": "code",
      "source": [
        "!python /content/easyocr_finetuning/TRDG2DTRB/convert.py \\\n",
        "  --input_path \"/content/easyocr_finetuning/workspace/step1/train/kordata\" \\\n",
        "  --output_path \"/content/easyocr_finetuning/workspace/step2/train/kordata\"\n",
        "\n",
        "!python /content/easyocr_finetuning/TRDG2DTRB/convert.py \\\n",
        "  --input_path \"/content/easyocr_finetuning/workspace/step1/validation/kordata\" \\\n",
        "  --output_path \"/content/easyocr_finetuning/workspace/step2/validation/kordata\"\n",
        "\n",
        "!python /content/easyocr_finetuning/TRDG2DTRB/convert.py \\\n",
        "  --input_path \"/content/easyocr_finetuning/workspace/step1/test/kordata\" \\\n",
        "  --output_path \"/content/easyocr_finetuning/workspace/step2/test/kordata\""
      ],
      "metadata": {
        "id": "fn6tvzZDHkMw",
        "colab": {
          "base_uri": "https://localhost:8080/"
        },
        "outputId": "e5b23336-ee3c-43a3-ce3f-5a7aa245bd12"
      },
      "execution_count": 7,
      "outputs": [
        {
          "output_type": "stream",
          "name": "stdout",
          "text": [
            "input path:  /content/easyocr_finetuning/workspace/step1/train/kordata\n",
            "output path:  /content/easyocr_finetuning/workspace/step2/train/kordata\n",
            "Total file count:  2000\n",
            "2000 / 2000 Processing !!\n",
            "Conversion complete!\n",
            "\n",
            "input path:  /content/easyocr_finetuning/workspace/step1/validation/kordata\n",
            "output path:  /content/easyocr_finetuning/workspace/step2/validation/kordata\n",
            "Total file count:  100\n",
            "100 / 100 Processing !!\n",
            "Conversion complete!\n",
            "\n",
            "input path:  /content/easyocr_finetuning/workspace/step1/test/kordata\n",
            "output path:  /content/easyocr_finetuning/workspace/step2/test/kordata\n",
            "Total file count:  100\n",
            "100 / 100 Processing !!\n",
            "Conversion complete!\n",
            "\n"
          ]
        }
      ]
    },
    {
      "cell_type": "markdown",
      "source": [
        "# 4.Transform image and text to data\n",
        "Only ai hub data is used here.   \n",
        "(If you want to use the Korean data created in 3-2, combine the folders into one.)"
      ],
      "metadata": {
        "id": "6o4M6TLtcLOS"
      }
    },
    {
      "cell_type": "code",
      "source": [
        "!python /content/easyocr_finetuning/deep-text-recognition-benchmark/create_lmdb_dataset.py \\\n",
        "  --gtFile \"/content/easyocr_finetuning/workspace/step2/train/aihub_data/gt.txt\" \\\n",
        "  --inputPath \"/content/easyocr_finetuning/workspace/step2/train/aihub_data\" \\\n",
        "  --outputPath \"/content/easyocr_finetuning/workspace/step3/train/aihub_data\"\n",
        "\n",
        "!python /content/easyocr_finetuning/deep-text-recognition-benchmark/create_lmdb_dataset.py \\\n",
        "  --gtFile \"/content/easyocr_finetuning/workspace/step2/validation/aihub_data/gt.txt\" \\\n",
        "  --inputPath \"/content/easyocr_finetuning/workspace/step2/validation/aihub_data\" \\\n",
        "  --outputPath \"/content/easyocr_finetuning/workspace/step3/validation/aihub_data\""
      ],
      "metadata": {
        "colab": {
          "base_uri": "https://localhost:8080/"
        },
        "id": "kYo3PbuFRtwN",
        "outputId": "fda1652d-3ab6-4f29-d109-d886be211ca8"
      },
      "execution_count": 8,
      "outputs": [
        {
          "output_type": "stream",
          "name": "stdout",
          "text": [
            "Written 1000 / 1388\n",
            "Created dataset with 1388 samples\n",
            "Created dataset with 690 samples\n"
          ]
        }
      ]
    },
    {
      "cell_type": "markdown",
      "source": [
        "# 5.Fine tuning\n",
        "Fine tuning proceeds when the cell of the collaboration is executed.\n",
        "You can check the learning log by looking at the saved_models folder.\n",
        "When learning is achieved, stop the cell and start the next cell."
      ],
      "metadata": {
        "id": "WVR-O0FzrfwH"
      }
    },
    {
      "cell_type": "code",
      "source": [
        "!python /content/easyocr_finetuning/deep-text-recognition-benchmark/train.py \\\n",
        "        --train_data \"/content/easyocr_finetuning/workspace/step3/train\" \\\n",
        "        --valid_data \"/content/easyocr_finetuning/workspace/step3/validation\" \\\n",
        "        --select_data \"/\" \\\n",
        "        --batch_ratio 1 \\\n",
        "        --data_filtering_off \\\n",
        "        --sensitive \\\n",
        "        --Transformation None \\\n",
        "        --FeatureExtraction \"VGG\" \\\n",
        "        --SequenceModeling \"BiLSTM\" \\\n",
        "        --Prediction \"CTC\" \\\n",
        "        --input_channel 1 \\\n",
        "        --output_channel 256 \\\n",
        "        --hidden_size 256 \\\n",
        "        --saved_model \"/content/easyocr_finetuning/workspace/pre_trained_model/korean_g2.pth\" \\\n",
        "        --FT"
      ],
      "metadata": {
        "colab": {
          "base_uri": "https://localhost:8080/"
        },
        "id": "CYg53IpKS4ZF",
        "outputId": "97e3d35f-634c-41da-f37f-ad0548cf8ce9"
      },
      "execution_count": 9,
      "outputs": [
        {
          "output_type": "stream",
          "name": "stdout",
          "text": [
            "--------------------------------------------------------------------------------\n",
            "dataset_root: /content/easyocr_finetuning/workspace/step3/train\n",
            "opt.select_data: ['/']\n",
            "opt.batch_ratio: ['1']\n",
            "--------------------------------------------------------------------------------\n",
            "dataset_root:    /content/easyocr_finetuning/workspace/step3/train\t dataset: /\n",
            "sub-directory:\t/aihub_data\t num samples: 1388\n",
            "num total samples of /: 1388 x 1.0 (total_data_usage_ratio) = 1388\n",
            "num samples of / per batch: 192 x 1.0 (batch_ratio) = 192\n",
            "/usr/local/lib/python3.7/dist-packages/torch/utils/data/dataloader.py:490: UserWarning: This DataLoader will create 4 worker processes in total. Our suggested max number of worker in current system is 2, which is smaller than what this DataLoader is going to create. Please be aware that excessive worker creation might get DataLoader running slow or even freeze, lower the worker number to avoid potential slowness/freeze if necessary.\n",
            "  cpuset_checked))\n",
            "--------------------------------------------------------------------------------\n",
            "Total_batch_size: 192 = 192\n",
            "--------------------------------------------------------------------------------\n",
            "dataset_root:    /content/easyocr_finetuning/workspace/step3/validation\t dataset: /\n",
            "sub-directory:\t/aihub_data\t num samples: 690\n",
            "--------------------------------------------------------------------------------\n",
            "No Transformation module specified\n",
            "model input parameters 32 100 20 1 256 256 1009 25 None VGG BiLSTM CTC\n",
            "loading pretrained model from /content/easyocr_finetuning/workspace/pre_trained_model/korean_g2.pth\n",
            "Model:\n",
            "DataParallel(\n",
            "  (module): Model(\n",
            "    (FeatureExtraction): VGG_FeatureExtractor(\n",
            "      (ConvNet): Sequential(\n",
            "        (0): Conv2d(1, 32, kernel_size=(3, 3), stride=(1, 1), padding=(1, 1))\n",
            "        (1): ReLU(inplace=True)\n",
            "        (2): MaxPool2d(kernel_size=2, stride=2, padding=0, dilation=1, ceil_mode=False)\n",
            "        (3): Conv2d(32, 64, kernel_size=(3, 3), stride=(1, 1), padding=(1, 1))\n",
            "        (4): ReLU(inplace=True)\n",
            "        (5): MaxPool2d(kernel_size=2, stride=2, padding=0, dilation=1, ceil_mode=False)\n",
            "        (6): Conv2d(64, 128, kernel_size=(3, 3), stride=(1, 1), padding=(1, 1))\n",
            "        (7): ReLU(inplace=True)\n",
            "        (8): Conv2d(128, 128, kernel_size=(3, 3), stride=(1, 1), padding=(1, 1))\n",
            "        (9): ReLU(inplace=True)\n",
            "        (10): MaxPool2d(kernel_size=(2, 1), stride=(2, 1), padding=0, dilation=1, ceil_mode=False)\n",
            "        (11): Conv2d(128, 256, kernel_size=(3, 3), stride=(1, 1), padding=(1, 1), bias=False)\n",
            "        (12): BatchNorm2d(256, eps=1e-05, momentum=0.1, affine=True, track_running_stats=True)\n",
            "        (13): ReLU(inplace=True)\n",
            "        (14): Conv2d(256, 256, kernel_size=(3, 3), stride=(1, 1), padding=(1, 1), bias=False)\n",
            "        (15): BatchNorm2d(256, eps=1e-05, momentum=0.1, affine=True, track_running_stats=True)\n",
            "        (16): ReLU(inplace=True)\n",
            "        (17): MaxPool2d(kernel_size=(2, 1), stride=(2, 1), padding=0, dilation=1, ceil_mode=False)\n",
            "        (18): Conv2d(256, 256, kernel_size=(2, 2), stride=(1, 1))\n",
            "        (19): ReLU(inplace=True)\n",
            "      )\n",
            "    )\n",
            "    (AdaptiveAvgPool): AdaptiveAvgPool2d(output_size=(None, 1))\n",
            "    (SequenceModeling): Sequential(\n",
            "      (0): BidirectionalLSTM(\n",
            "        (rnn): LSTM(256, 256, batch_first=True, bidirectional=True)\n",
            "        (linear): Linear(in_features=512, out_features=256, bias=True)\n",
            "      )\n",
            "      (1): BidirectionalLSTM(\n",
            "        (rnn): LSTM(256, 256, batch_first=True, bidirectional=True)\n",
            "        (linear): Linear(in_features=512, out_features=256, bias=True)\n",
            "      )\n",
            "    )\n",
            "    (Prediction): Linear(in_features=256, out_features=1009, bias=True)\n",
            "  )\n",
            ")\n",
            "Trainable params num :  4015729\n",
            "Optimizer:\n",
            "Adadelta (\n",
            "Parameter Group 0\n",
            "    eps: 1e-08\n",
            "    lr: 1\n",
            "    rho: 0.95\n",
            "    weight_decay: 0\n",
            ")\n",
            "------------ Options -------------\n",
            "exp_name: None-VGG-BiLSTM-CTC-Seed1111\n",
            "train_data: /content/easyocr_finetuning/workspace/step3/train\n",
            "valid_data: /content/easyocr_finetuning/workspace/step3/validation\n",
            "manualSeed: 1111\n",
            "workers: 4\n",
            "batch_size: 192\n",
            "num_iter: 300000\n",
            "valInterval: 2000\n",
            "saved_model: /content/easyocr_finetuning/workspace/pre_trained_model/korean_g2.pth\n",
            "FT: True\n",
            "adam: False\n",
            "lr: 1\n",
            "beta1: 0.9\n",
            "rho: 0.95\n",
            "eps: 1e-08\n",
            "grad_clip: 5\n",
            "baiduCTC: False\n",
            "select_data: ['/']\n",
            "batch_ratio: ['1']\n",
            "total_data_usage_ratio: 1.0\n",
            "batch_max_length: 25\n",
            "imgH: 32\n",
            "imgW: 100\n",
            "rgb: False\n",
            "character:  !\"#$%&'()*+,-./0123456789:;<=>?@ABCDEFGHIJKLMNOPQRSTUVWXYZ[\\]^_`abcdefghijklmnopqrstuvwxyz{|}~가각간갇갈감갑값강갖같갚갛개객걀거걱건걷걸검겁것겉게겨격겪견결겹경곁계고곡곤곧골곰곱곳공과관광괜괴굉교구국군굳굴굵굶굽궁권귀규균그극근글긁금급긋긍기긴길김깅깊까깎깐깔깜깝깥깨꺼꺾껍껏껑께껴꼬꼭꼴꼼꼽꽂꽃꽉꽤꾸꿀꿈뀌끄끈끊끌끓끔끗끝끼낌나낙낚난날낡남납낫낭낮낯낱낳내냄냉냐냥너넉널넓넘넣네넥넷녀녁년념녕노녹논놀놈농높놓놔뇌뇨누눈눕뉘뉴늄느늑는늘늙능늦늬니닐님다닥닦단닫달닭닮담답닷당닿대댁댐더덕던덜덤덥덧덩덮데델도독돈돌돕동돼되된두둑둘둠둡둥뒤뒷드득든듣들듬듭듯등디딩딪따딱딴딸땀땅때땜떠떡떤떨떻떼또똑뚜뚫뚱뛰뜨뜩뜯뜰뜻띄라락란람랍랑랗래랜램랫략량러럭런럴럼럽럿렁렇레렉렌려력련렬렵령례로록론롬롭롯료루룩룹룻뤄류륙률륭르른름릇릎리릭린림립릿마막만많말맑맘맙맛망맞맡맣매맥맨맵맺머먹먼멀멈멋멍멎메멘멩며면멸명몇모목몰몸몹못몽묘무묵묶문묻물뭄뭇뭐뭣므미민믿밀밉밌및밑바박밖반받발밝밟밤밥방밭배백뱀뱃뱉버번벌범법벗베벤벼벽변별볍병볕보복볶본볼봄봇봉뵈뵙부북분불붉붐붓붕붙뷰브블비빌빗빚빛빠빨빵빼뺨뻐뻔뻗뼈뽑뿌뿐쁘쁨사삭산살삶삼상새색샌생서석섞선설섬섭섯성세센셈셋션소속손솔솜솟송솥쇄쇠쇼수숙순술숨숫숲쉬쉽슈스슨슬슴습슷승시식신싣실싫심십싱싶싸싹쌀쌍쌓써썩썰썹쎄쏘쏟쑤쓰쓸씀씌씨씩씬씹씻아악안앉않알앓암압앗앙앞애액야약얇양얗얘어억언얹얻얼엄업없엇엉엌엎에엔엘여역연열엷염엽엿영옆예옛오옥온올옮옳옷와완왕왜왠외왼요욕용우욱운울움웃웅워원월웨웬위윗유육율으윽은을음응의이익인일읽잃임입잇있잊잎자작잔잖잘잠잡장잦재쟁저적전절젊점접젓정젖제젠젯져조족존졸좀좁종좋좌죄주죽준줄줌줍중쥐즈즉즌즐즘증지직진질짐집짓징짙짚짜짝짧째쨌쩌쩍쩐쪽쫓쭈쭉찌찍찢차착찬찮찰참창찾채책챔챙처척천철첫청체쳐초촉촌총촬최추축춘출춤춥춧충취츠측츰층치칙친칠침칭카칸칼캐캠커컨컬컴컵컷켓켜코콜콤콩쾌쿠퀴크큰클큼키킬타탁탄탈탑탓탕태택탤터턱털텅테텍텔템토톤톱통퇴투툼퉁튀튜트특튼튿틀틈티틱팀팅파팎판팔패팩팬퍼퍽페펴편펼평폐포폭표푸푹풀품풍퓨프플픔피픽필핏핑하학한할함합항해핵핸햄햇행향허헌험헤헬혀현혈협형혜호혹혼홀홍화확환활황회획횟효후훈훌훔훨휘휴흉흐흑흔흘흙흡흥흩희흰히힘\n",
            "sensitive: True\n",
            "PAD: False\n",
            "data_filtering_off: True\n",
            "Transformation: None\n",
            "FeatureExtraction: VGG\n",
            "SequenceModeling: BiLSTM\n",
            "Prediction: CTC\n",
            "num_fiducial: 20\n",
            "input_channel: 1\n",
            "output_channel: 256\n",
            "hidden_size: 256\n",
            "num_gpu: 1\n",
            "num_class: 1009\n",
            "---------------------------------------\n",
            "\n",
            "[1/300000] Train loss: 3.35630, Valid loss: 2.30223, Elapsed_time: 0.99602\n",
            "Current_accuracy : 81.594, Current_norm_ED  : 0.07\n",
            "Best_accuracy    : 81.594, Best_norm_ED     : 0.07\n",
            "--------------------------------------------------------------------------------\n",
            "Ground Truth              | Prediction                | Confidence Score & T/F\n",
            "--------------------------------------------------------------------------------\n",
            "및                         | 및                         | 0.7009\tTrue\n",
            "시행령                       | 시행령                       | 0.6930\tFalse\n",
            "일                         | 일                         | 0.5828\tTrue\n",
            "신청인                       | 신청인                       | 0.5376\tTrue\n",
            "<개정                       | (개정                       | 0.2824\tFalse\n",
            "--------------------------------------------------------------------------------\n",
            "Traceback (most recent call last):\n",
            "  File \"/content/easyocr_finetuning/deep-text-recognition-benchmark/train.py\", line 321, in <module>\n",
            "    train(opt)\n",
            "  File \"/content/easyocr_finetuning/deep-text-recognition-benchmark/train.py\", line 164, in train\n",
            "    cost = criterion(preds, text, preds_size, length)\n",
            "  File \"/usr/local/lib/python3.7/dist-packages/torch/nn/modules/module.py\", line 1110, in _call_impl\n",
            "    return forward_call(*input, **kwargs)\n",
            "  File \"/usr/local/lib/python3.7/dist-packages/torch/nn/modules/loss.py\", line 1744, in forward\n",
            "    self.zero_infinity)\n",
            "  File \"/usr/local/lib/python3.7/dist-packages/torch/nn/functional.py\", line 2600, in ctc_loss\n",
            "    log_probs, targets, input_lengths, target_lengths, blank, _Reduction.get_enum(reduction), zero_infinity\n",
            "KeyboardInterrupt\n"
          ]
        }
      ]
    },
    {
      "cell_type": "markdown",
      "source": [
        "# 6.Apply Fine tuning model to easy ocr \n",
        "Import and use the fine tuning model as a custom path."
      ],
      "metadata": {
        "id": "01SlxaVptHk3"
      }
    },
    {
      "cell_type": "code",
      "source": [
        "cp -r /content/saved_models/None-VGG-BiLSTM-CTC-Seed1111/best_accuracy.pth /content/easyocr_finetuning/workspace/user_network_dir/custom.pth"
      ],
      "metadata": {
        "id": "OcSYNGwxY0JW"
      },
      "execution_count": 10,
      "outputs": []
    },
    {
      "cell_type": "code",
      "source": [
        "import numpy as np\n",
        "import cv2\n",
        "import matplotlib.pyplot as plt\n",
        "from easyocr.easyocr import *\n",
        "from PIL import ImageFont, ImageDraw, Image\n",
        "\n",
        "# Set GPU\n",
        "os.environ['CUDA_VISIBLE_DEVICES'] = '0'\n",
        "\n",
        "# Using custom model\n",
        "reader = Reader(['ko'], gpu=True, model_storage_directory='/content/easyocr_finetuning/workspace/user_network_dir', user_network_directory='/content/easyocr_finetuning/workspace/user_network_dir', recog_network='custom')\n",
        "img_file = \"/content/easyocr_finetuning/workspace/demo_page/00110011041.jpg\"\n",
        "result = reader.readtext(img_file)\n",
        "img    = cv2.imread(img_file)\n",
        "\n",
        "img = Image.fromarray(img)\n",
        "font = ImageFont.truetype(\"/content/easyocr_finetuning/workspace/HMKMRHD.TTF\", 35)\n",
        "draw = ImageDraw.Draw(img)\n",
        "\n",
        "color = [0, 0, 255]\n",
        "\n",
        "for i in result :\n",
        "    x = i[0][0][0]\n",
        "    y = i[0][0][1]\n",
        "    w = i[0][1][0] - i[0][0][0]\n",
        "    h = i[0][2][1] - i[0][1][1]\n",
        "    \n",
        "    draw.rectangle(((x, y), (x+w, y+h)), outline=tuple(color), width=2)\n",
        "    draw.text((int((x + x + w) / 2), y - 20), str(i[1]), font=font, fill=tuple(color),)\n",
        "\n",
        "plt.imshow(img)\n",
        "plt.show()\n",
        "img.save(\"easyocr_bbox.jpg\")"
      ],
      "metadata": {
        "colab": {
          "base_uri": "https://localhost:8080/",
          "height": 305
        },
        "id": "Xv0EMBEQaAB6",
        "outputId": "ab61a42c-b50c-4219-fe0d-4b2c29e775ef"
      },
      "execution_count": 11,
      "outputs": [
        {
          "output_type": "stream",
          "name": "stderr",
          "text": [
            "Downloading detection model, please wait. This may take several minutes depending upon your network connection.\n"
          ]
        },
        {
          "output_type": "stream",
          "name": "stdout",
          "text": [
            "Progress: |██████████████████████████████████████████████████| 100.0% Complete"
          ]
        },
        {
          "output_type": "display_data",
          "data": {
            "text/plain": [
              "<Figure size 432x288 with 1 Axes>"
            ],
            "image/png": "[encoded data removed]"
          },
          "metadata": {
            "needs_background": "light"
          }
        }
      ]
    },
    {
      "cell_type": "markdown",
      "source": [
        "## 7.Evaluation\n",
        "Performance is measured based on how many cropped images are fitted."
      ],
      "metadata": {
        "id": "Pup4_DQJRlO_"
      }
    },
    {
      "cell_type": "code",
      "source": [
        "import os\n",
        "import re\n",
        "import json\n",
        "from easyocr.easyocr import *\n",
        "from PIL import Image\n",
        "import pandas as pd\n",
        "import collections\n",
        "\n",
        "cnt = 0\n",
        "with open(\"/content/easyocr_finetuning/workspace/step2/test/ocrdata/gt.txt\", \"r\") as f:\n",
        "    lines = f.readlines()\n",
        "\n",
        "origin_text_list = []\n",
        "text_list = []\n",
        "answer_list = []\n",
        "reader = Reader(['ko'], gpu=True, model_storage_directory='/content/easyocr_finetuning/workspace/user_network_dir', user_network_directory='/content/easyocr_finetuning/workspace/user_network_dir', recog_network='custom')\n",
        "\n",
        "cnt = 0\n",
        "for i, line in enumerate(lines):\n",
        "    split_val = line.split(\"\\t\")\n",
        "    image_dir = \"/content/easyocr_finetuning/workspace/step2/test/ocrdata/\" + split_val[0]\n",
        "    answer = split_val[1].strip()\n",
        "    answer = re.sub(r'[^\\w\\s]', '', answer)\n",
        "\n",
        "    result = reader.readtext(image_dir)\n",
        "    if len(result) != 0:\n",
        "        pred_answer = result[0][1].strip()\n",
        "        pred_answer = re.sub(r'[^\\w\\s]', '', pred_answer)\n",
        "    else:\n",
        "        pred_answer = \"\"\n",
        "    \n",
        "    origin_text_list.append(answer)\n",
        "    text_list.append(pred_answer)\n",
        "    answer_list.append(answer == pred_answer)\n",
        "    \n",
        "    if answer == pred_answer: cnt += 1\n",
        "    if i == 499: break\n",
        "\n",
        "df_result = pd.DataFrame({\"origin_text\": origin_text_list, \"ocr_text\": text_list, \"answer\": answer_list})\n",
        "df_result.to_csv(\"result.csv\", index=False, encoding=\"utf8\")\n",
        "print(\"\\n\", collections.Counter(answer_list))"
      ],
      "metadata": {
        "colab": {
          "base_uri": "https://localhost:8080/"
        },
        "id": "n-K9gssNRptA",
        "outputId": "e5bc5fae-cb85-4e70-80ec-3a9450248a46"
      },
      "execution_count": 12,
      "outputs": [
        {
          "output_type": "stream",
          "name": "stdout",
          "text": [
            "\n",
            " Counter({True: 316, False: 184})\n"
          ]
        }
      ]
    }
  ]
}